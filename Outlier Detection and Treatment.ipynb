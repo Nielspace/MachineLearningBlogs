{
 "cells": [
  {
   "cell_type": "markdown",
   "metadata": {},
   "source": [
    "# Detecting Outliers\n",
    "\n",
    "## Introduction\n",
    "\n",
    "Outliers are data points in a population which does not belong to that population. For example, a black sheep in the herd of white sheep. \n",
    "\n",
    "Outliers can skew your results. Or we can say it shifts the behavior of the data from what was suppose to be true to somewhat not true results. We can call the shift as the Error. \n",
    "\n",
    "Error is the difference between the actual result and the predicted results. Predicted results which come from the Machine Learning model can be affected if there are unwanted data present it in. In order to make sure that the Machine Learning makes correct prediction we have to ensure that we deal with the outliers. "
   ]
  },
  {
   "cell_type": "code",
   "execution_count": 1,
   "metadata": {},
   "outputs": [],
   "source": [
    "import pandas as pd\n",
    "import numpy as np\n",
    "import matplotlib.pyplot as plt\n",
    "import seaborn as sns"
   ]
  },
  {
   "cell_type": "code",
   "execution_count": 2,
   "metadata": {},
   "outputs": [
    {
     "data": {
      "text/html": [
       "<div>\n",
       "<style scoped>\n",
       "    .dataframe tbody tr th:only-of-type {\n",
       "        vertical-align: middle;\n",
       "    }\n",
       "\n",
       "    .dataframe tbody tr th {\n",
       "        vertical-align: top;\n",
       "    }\n",
       "\n",
       "    .dataframe thead th {\n",
       "        text-align: right;\n",
       "    }\n",
       "</style>\n",
       "<table border=\"1\" class=\"dataframe\">\n",
       "  <thead>\n",
       "    <tr style=\"text-align: right;\">\n",
       "      <th></th>\n",
       "      <th>carat</th>\n",
       "      <th>cut</th>\n",
       "      <th>color</th>\n",
       "      <th>clarity</th>\n",
       "      <th>depth</th>\n",
       "      <th>table</th>\n",
       "      <th>price</th>\n",
       "      <th>x</th>\n",
       "      <th>y</th>\n",
       "      <th>z</th>\n",
       "    </tr>\n",
       "  </thead>\n",
       "  <tbody>\n",
       "    <tr>\n",
       "      <th>0</th>\n",
       "      <td>0.23</td>\n",
       "      <td>Ideal</td>\n",
       "      <td>E</td>\n",
       "      <td>SI2</td>\n",
       "      <td>61.5</td>\n",
       "      <td>55.0</td>\n",
       "      <td>326</td>\n",
       "      <td>3.95</td>\n",
       "      <td>3.98</td>\n",
       "      <td>2.43</td>\n",
       "    </tr>\n",
       "    <tr>\n",
       "      <th>1</th>\n",
       "      <td>0.21</td>\n",
       "      <td>Premium</td>\n",
       "      <td>E</td>\n",
       "      <td>SI1</td>\n",
       "      <td>59.8</td>\n",
       "      <td>61.0</td>\n",
       "      <td>326</td>\n",
       "      <td>3.89</td>\n",
       "      <td>3.84</td>\n",
       "      <td>2.31</td>\n",
       "    </tr>\n",
       "    <tr>\n",
       "      <th>2</th>\n",
       "      <td>0.23</td>\n",
       "      <td>Good</td>\n",
       "      <td>E</td>\n",
       "      <td>VS1</td>\n",
       "      <td>56.9</td>\n",
       "      <td>65.0</td>\n",
       "      <td>327</td>\n",
       "      <td>4.05</td>\n",
       "      <td>4.07</td>\n",
       "      <td>2.31</td>\n",
       "    </tr>\n",
       "    <tr>\n",
       "      <th>3</th>\n",
       "      <td>0.29</td>\n",
       "      <td>Premium</td>\n",
       "      <td>I</td>\n",
       "      <td>VS2</td>\n",
       "      <td>62.4</td>\n",
       "      <td>58.0</td>\n",
       "      <td>334</td>\n",
       "      <td>4.20</td>\n",
       "      <td>4.23</td>\n",
       "      <td>2.63</td>\n",
       "    </tr>\n",
       "    <tr>\n",
       "      <th>4</th>\n",
       "      <td>0.31</td>\n",
       "      <td>Good</td>\n",
       "      <td>J</td>\n",
       "      <td>SI2</td>\n",
       "      <td>63.3</td>\n",
       "      <td>58.0</td>\n",
       "      <td>335</td>\n",
       "      <td>4.34</td>\n",
       "      <td>4.35</td>\n",
       "      <td>2.75</td>\n",
       "    </tr>\n",
       "  </tbody>\n",
       "</table>\n",
       "</div>"
      ],
      "text/plain": [
       "   carat      cut color clarity  depth  table  price     x     y     z\n",
       "0   0.23    Ideal     E     SI2   61.5   55.0    326  3.95  3.98  2.43\n",
       "1   0.21  Premium     E     SI1   59.8   61.0    326  3.89  3.84  2.31\n",
       "2   0.23     Good     E     VS1   56.9   65.0    327  4.05  4.07  2.31\n",
       "3   0.29  Premium     I     VS2   62.4   58.0    334  4.20  4.23  2.63\n",
       "4   0.31     Good     J     SI2   63.3   58.0    335  4.34  4.35  2.75"
      ]
     },
     "execution_count": 2,
     "metadata": {},
     "output_type": "execute_result"
    }
   ],
   "source": [
    "data = sns.load_dataset('diamonds'); data.head()"
   ]
  },
  {
   "cell_type": "code",
   "execution_count": 3,
   "metadata": {},
   "outputs": [],
   "source": [
    "data = data.fillna(data.median())"
   ]
  },
  {
   "cell_type": "code",
   "execution_count": 4,
   "metadata": {},
   "outputs": [],
   "source": [
    "data_raw = data.copy()"
   ]
  },
  {
   "cell_type": "markdown",
   "metadata": {},
   "source": [
    "## Building Models with any preprocessing"
   ]
  },
  {
   "cell_type": "code",
   "execution_count": 8,
   "metadata": {},
   "outputs": [],
   "source": [
    "from sklearn.model_selection import train_test_split\n",
    "from sklearn.linear_model import SGDRegressor\n",
    "from sklearn.ensemble import RandomForestRegressor"
   ]
  },
  {
   "cell_type": "code",
   "execution_count": 6,
   "metadata": {},
   "outputs": [],
   "source": [
    "X = data_raw.carat\n",
    "y = np.log(data_raw.price)"
   ]
  },
  {
   "cell_type": "code",
   "execution_count": 9,
   "metadata": {},
   "outputs": [],
   "source": [
    "X_train, X_test, y_train, y_test = train_test_split(X,y, random_state=23, test_size=0.3)\n",
    "\n",
    "X_train = np.array(X_train).reshape(-1,1)\n",
    "X_test = np.array(X_test).reshape(-1,1)"
   ]
  },
  {
   "cell_type": "code",
   "execution_count": 10,
   "metadata": {},
   "outputs": [
    {
     "data": {
      "text/plain": [
       "0.8479562194026452"
      ]
     },
     "execution_count": 10,
     "metadata": {},
     "output_type": "execute_result"
    }
   ],
   "source": [
    "SGD = SGDRegressor(random_state=23)\n",
    "SGD.fit(X_train, y_train)\n",
    "SGD.score(X_train, y_train)"
   ]
  },
  {
   "cell_type": "code",
   "execution_count": 11,
   "metadata": {},
   "outputs": [
    {
     "data": {
      "text/plain": [
       "0.9392504120631732"
      ]
     },
     "execution_count": 11,
     "metadata": {},
     "output_type": "execute_result"
    }
   ],
   "source": [
    "from sklearn.ensemble import RandomForestRegressor\n",
    "rf = RandomForestRegressor(n_jobs=-1, n_estimators=10, random_state=23)\n",
    "rf.fit(X_train,y_train)\n",
    "rf.score(X_train, y_train)"
   ]
  },
  {
   "cell_type": "markdown",
   "metadata": {},
   "source": [
    "\n",
    "## Dealing with Outliers\n",
    "\n",
    "There are several ways in which you can deal with outliers. But we take any sort of measurement to deal with outliers we should remember certain points.\n",
    "\n",
    "1. Outliers can be good and bad as well. Basically it is subject to the problem we are facing. Some problems need oultiers or so called anomaly detection--something that deviates from the standard or normal, basically abnormal behaviour. \n",
    "\n",
    "2. Removing Outliers can also reduce the observation which can lead to Overfitting-- where model is too complex to learn the simplicity of the data provided. We have to ensure that the model and the data is correctly balanced. \n",
    "\n",
    "We will be focusing on the second point as the first point is out of scope of this article. \n",
    "\n",
    "Now, there are certain ways of dealing with outliers. \n",
    "\n",
    "1. Removing them.\n",
    "- Scaling them.\n",
    "- Using a non-parametric model\n",
    "- Using deep neural networks\n",
    "\n",
    "We will be covering all the points mentioned above to see which one the above method will provide us a good outcome. "
   ]
  },
  {
   "cell_type": "markdown",
   "metadata": {},
   "source": [
    "## Visualisation\n",
    "\n",
    "Two methods shown below but the what I prefer the most is boxplot. Why? Because the boxplot shown outliers based upon the inter-quartile range which is calculated using standard deviation. \n",
    "\n",
    "**Standard deviation** is an important tool to find whether a population has outliers. "
   ]
  },
  {
   "cell_type": "code",
   "execution_count": 5,
   "metadata": {
    "scrolled": false
   },
   "outputs": [
    {
     "data": {
      "text/plain": [
       "<Figure size 864x720 with 0 Axes>"
      ]
     },
     "metadata": {},
     "output_type": "display_data"
    },
    {
     "data": {
      "image/png": "[encoded data removed]",
      "text/plain": [
       "<Figure size 432x432 with 3 Axes>"
      ]
     },
     "metadata": {
      "needs_background": "light"
     },
     "output_type": "display_data"
    }
   ],
   "source": [
    "plt.figure(figsize=(12,10))\n",
    "s1 = sns.jointplot(x=\"carat\", y=\"price\", data=data)\n",
    "s1.ax_joint.plot([2.9, 2.9], [0, 20000], linewidth=2,color='r' )\n",
    "s1.set_axis_labels(xlabel=\"Carat\", ylabel=\"Sales Price\")\n",
    "plt.show()"
   ]
  },
  {
   "cell_type": "code",
   "execution_count": 6,
   "metadata": {},
   "outputs": [
    {
     "data": {
      "text/plain": [
       "{'whiskers': [<matplotlib.lines.Line2D at 0x12112b650>,\n",
       "  <matplotlib.lines.Line2D at 0x12112bc10>],\n",
       " 'caps': [<matplotlib.lines.Line2D at 0x12112bf10>,\n",
       "  <matplotlib.lines.Line2D at 0x121132650>],\n",
       " 'boxes': [<matplotlib.lines.Line2D at 0x1211239d0>],\n",
       " 'medians': [<matplotlib.lines.Line2D at 0x121132b90>],\n",
       " 'fliers': [<matplotlib.lines.Line2D at 0x121132e90>],\n",
       " 'means': []}"
      ]
     },
     "execution_count": 6,
     "metadata": {},
     "output_type": "execute_result"
    },
    {
     "data": {
      "image/png": "[encoded data removed]",
      "text/plain": [
       "<Figure size 720x720 with 1 Axes>"
      ]
     },
     "metadata": {
      "needs_background": "light"
     },
     "output_type": "display_data"
    }
   ],
   "source": [
    "plt.figure(figsize=(10,10))\n",
    "plt.boxplot(data.carat)"
   ]
  },
  {
   "cell_type": "markdown",
   "metadata": {},
   "source": [
    "# Treatment\n",
    "\n",
    "## Standard Deviation as a tool\n",
    "\n",
    "The Standard Deviation is a measure of how spread out data in a space from the mean. Standard deviation is square root of variance.\n",
    "\n",
    "\n",
    "\n",
    "![](STD.jpeg)\n",
    "\n",
    "Usually any data beyond 3rd standard deviation is considered as an outlier. "
   ]
  },
  {
   "cell_type": "markdown",
   "metadata": {},
   "source": [
    "## Removing Outliers\n",
    "\n",
    "We try the first method i.e. **removing the outliers** and then build a ML model to check the accuracy. The two models that we will be using is Stochastic Gradient Descent and Random Forest. \n",
    "\n",
    "**Note**: We will be using vanilla model i.e. a default model that sklearn already provides."
   ]
  },
  {
   "cell_type": "code",
   "execution_count": 7,
   "metadata": {},
   "outputs": [
    {
     "name": "stdout",
     "output_type": "stream",
     "text": [
      "1889\n"
     ]
    }
   ],
   "source": [
    "q25, q75 = np.percentile(data.carat, 25), np.percentile(data.carat, 75)\n",
    "iqr = q75 - q25; iqr\n",
    "cut_off = iqr * 1.5\n",
    "lower, upper = q25 - cut_off, q75 + cut_off\n",
    "outliers = [x for x in data.carat if x < lower or x > upper]; print(len(outliers))"
   ]
  },
  {
   "cell_type": "code",
   "execution_count": 8,
   "metadata": {},
   "outputs": [],
   "source": [
    "data = data.drop(data[(data.carat > upper) | (data.carat<lower)].index)"
   ]
  },
  {
   "cell_type": "code",
   "execution_count": 9,
   "metadata": {},
   "outputs": [
    {
     "data": {
      "image/png": "[encoded data removed]",
      "text/plain": [
       "<Figure size 1440x576 with 1 Axes>"
      ]
     },
     "metadata": {
      "needs_background": "light"
     },
     "output_type": "display_data"
    }
   ],
   "source": [
    "f,ax = plt.subplots(1, 1, figsize=(20,8))\n",
    "colors = ['#B3F9C5', '#f9c5b3']\n",
    "sns.boxplot(x='carat', data=data,)\n",
    "ax.annotate('Extreme \\n outliers', xy=(2.1,0.1),xytext=(2.1, 0.3),\n",
    "            arrowprops=dict(facecolor='black'),\n",
    "            fontsize=14)\n",
    "\n",
    "plt.show()"
   ]
  },
  {
   "cell_type": "code",
   "execution_count": 10,
   "metadata": {
    "scrolled": true
   },
   "outputs": [
    {
     "data": {
      "text/plain": [
       "{'whiskers': [<matplotlib.lines.Line2D at 0x120f1e450>,\n",
       "  <matplotlib.lines.Line2D at 0x120f1ea10>],\n",
       " 'caps': [<matplotlib.lines.Line2D at 0x120f1ef10>,\n",
       "  <matplotlib.lines.Line2D at 0x120f16850>],\n",
       " 'boxes': [<matplotlib.lines.Line2D at 0x120f16810>],\n",
       " 'medians': [<matplotlib.lines.Line2D at 0x120f28990>],\n",
       " 'fliers': [<matplotlib.lines.Line2D at 0x120f28e90>],\n",
       " 'means': []}"
      ]
     },
     "execution_count": 10,
     "metadata": {},
     "output_type": "execute_result"
    },
    {
     "data": {
      "image/png": "[encoded data removed]",
      "text/plain": [
       "<Figure size 576x720 with 1 Axes>"
      ]
     },
     "metadata": {
      "needs_background": "light"
     },
     "output_type": "display_data"
    }
   ],
   "source": [
    "plt.figure(figsize=(8,10))\n",
    "plt.boxplot(data.carat)"
   ]
  },
  {
   "cell_type": "markdown",
   "metadata": {},
   "source": [
    "## Working with univariant dataset"
   ]
  },
  {
   "cell_type": "code",
   "execution_count": 11,
   "metadata": {},
   "outputs": [],
   "source": [
    "X = data.carat\n",
    "y = np.log(data.price)"
   ]
  },
  {
   "cell_type": "code",
   "execution_count": 12,
   "metadata": {},
   "outputs": [],
   "source": [
    "from sklearn.model_selection import train_test_split"
   ]
  },
  {
   "cell_type": "code",
   "execution_count": 13,
   "metadata": {},
   "outputs": [],
   "source": [
    "X_train, X_test, y_train, y_test = train_test_split(X,y, random_state=23, test_size=0.3)\n",
    "\n",
    "X_train = np.array(X_train).reshape(-1,1)\n",
    "X_test = np.array(X_test).reshape(-1,1)"
   ]
  },
  {
   "cell_type": "markdown",
   "metadata": {},
   "source": [
    "## Linear Model"
   ]
  },
  {
   "cell_type": "code",
   "execution_count": 14,
   "metadata": {},
   "outputs": [],
   "source": [
    "from sklearn.linear_model import SGDRegressor"
   ]
  },
  {
   "cell_type": "code",
   "execution_count": 15,
   "metadata": {},
   "outputs": [],
   "source": [
    "SGD = SGDRegressor(random_state=23)"
   ]
  },
  {
   "cell_type": "code",
   "execution_count": 16,
   "metadata": {},
   "outputs": [
    {
     "data": {
      "text/plain": [
       "SGDRegressor(alpha=0.0001, average=False, early_stopping=False, epsilon=0.1,\n",
       "             eta0=0.01, fit_intercept=True, l1_ratio=0.15,\n",
       "             learning_rate='invscaling', loss='squared_loss', max_iter=1000,\n",
       "             n_iter_no_change=5, penalty='l2', power_t=0.25, random_state=23,\n",
       "             shuffle=True, tol=0.001, validation_fraction=0.1, verbose=0,\n",
       "             warm_start=False)"
      ]
     },
     "execution_count": 16,
     "metadata": {},
     "output_type": "execute_result"
    }
   ],
   "source": [
    "SGD.fit(X_train, y_train)"
   ]
  },
  {
   "cell_type": "code",
   "execution_count": 17,
   "metadata": {},
   "outputs": [
    {
     "data": {
      "text/plain": [
       "0.8814293026043725"
      ]
     },
     "execution_count": 17,
     "metadata": {},
     "output_type": "execute_result"
    }
   ],
   "source": [
    "SGD.score(X_train, y_train)"
   ]
  },
  {
   "cell_type": "markdown",
   "metadata": {},
   "source": [
    "## Non-parametric model -- Random Forest"
   ]
  },
  {
   "cell_type": "code",
   "execution_count": 18,
   "metadata": {},
   "outputs": [],
   "source": [
    "from sklearn.ensemble import RandomForestRegressor"
   ]
  },
  {
   "cell_type": "code",
   "execution_count": 19,
   "metadata": {},
   "outputs": [
    {
     "data": {
      "text/plain": [
       "0.93255480422885"
      ]
     },
     "execution_count": 19,
     "metadata": {},
     "output_type": "execute_result"
    }
   ],
   "source": [
    "rf = RandomForestRegressor(n_jobs=-1, n_estimators=10, random_state=23)\n",
    "rf.fit(X_train,y_train)\n",
    "rf.score(X_train, y_train)"
   ]
  },
  {
   "cell_type": "markdown",
   "metadata": {},
   "source": [
    "## Checking the Performance \n",
    "\n",
    "If the test accuracy is less than training accuracy is it overfitting. i.e. the model is too complex learn the simplicity of the data.\n",
    "\n",
    "If the training accuracy itself is very less below 70 then we can say that the model is underfitting i.e. the model is too simple to learn the complex data. But it seems that our model is just fine not to be considered in the underfitting category. \n",
    "\n",
    "\n",
    "Hence, we will check for overfitting. \n",
    "\n",
    "We will be using Root Mean Square Error to check the score between the training set and the testing set. \n"
   ]
  },
  {
   "cell_type": "code",
   "execution_count": 20,
   "metadata": {},
   "outputs": [],
   "source": [
    "import math\n",
    "def rmse(X,y): return math.sqrt(((X-y)**2).mean())\n",
    "\n",
    "def print_score(model):\n",
    "    return [rmse(model.predict(X_train), y_train),rmse(model.predict(X_test), y_test), \n",
    "     model.score(X_train, y_train), model.score(X_test, y_test)]"
   ]
  },
  {
   "cell_type": "code",
   "execution_count": 21,
   "metadata": {},
   "outputs": [
    {
     "name": "stdout",
     "output_type": "stream",
     "text": [
      "The scores for Stochastic Gradient Descent are:  [0.33437466833442886, 0.33492309110522206, 0.8814293026043725, 0.8808833158341957]\n",
      "The scores for Random Forest are:  [0.2521855459326567, 0.25436238295812885, 0.93255480422885, 0.9312950253266471]\n"
     ]
    }
   ],
   "source": [
    "print('The scores for Stochastic Gradient Descent are: ',print_score(SGD)) #Perfect model\n",
    "print('The scores for Random Forest are: ',print_score(rf))"
   ]
  },
  {
   "cell_type": "code",
   "execution_count": 22,
   "metadata": {},
   "outputs": [],
   "source": [
    " #Perfect model"
   ]
  },
  {
   "cell_type": "markdown",
   "metadata": {},
   "source": [
    "## Scaling the dataset\n",
    "\n",
    "Since we have already detected that the outliers are present in the dataset. We will using scaling techniques accordingly and then we will build a ML model and then check the accuracy. \n",
    "\n",
    "There are \n",
    "\n",
    "**Note**: We will be using the vanilla here as well. Since our aim is not to discover the model but rather the technique which makes the model perform better. "
   ]
  },
  {
   "cell_type": "code",
   "execution_count": 23,
   "metadata": {},
   "outputs": [],
   "source": [
    "from sklearn.model_selection import train_test_split\n",
    "\n",
    "X, y = data_raw.carat, np.log(data_raw.price)\n",
    "\n",
    "from sklearn.preprocessing import RobustScaler\n",
    "\n",
    "\n",
    "scaling = RobustScaler()\n",
    "\n",
    "X = scaling.fit_transform(np.array(X).reshape(-1,1))\n",
    "\n",
    "\n",
    "X_train, X_test, y_train, y_test = train_test_split(X,y, random_state=23, test_size=0.3)\n",
    "\n",
    "X_train = np.array(X_train).reshape(-1,1)\n",
    "X_test = np.array(X_test).reshape(-1,1)"
   ]
  },
  {
   "cell_type": "markdown",
   "metadata": {},
   "source": [
    "## Linear Model"
   ]
  },
  {
   "cell_type": "code",
   "execution_count": 24,
   "metadata": {},
   "outputs": [
    {
     "data": {
      "text/plain": [
       "0.8475738040346006"
      ]
     },
     "execution_count": 24,
     "metadata": {},
     "output_type": "execute_result"
    }
   ],
   "source": [
    "from sklearn.linear_model import SGDRegressor\n",
    "SGD = SGDRegressor(random_state=23)\n",
    "SGD.fit(X_train, y_train)\n",
    "SGD.score(X_train, y_train)"
   ]
  },
  {
   "cell_type": "markdown",
   "metadata": {},
   "source": [
    "## Non-parametric model -- Random Forest"
   ]
  },
  {
   "cell_type": "code",
   "execution_count": 25,
   "metadata": {},
   "outputs": [
    {
     "data": {
      "text/plain": [
       "0.9392503939398784"
      ]
     },
     "execution_count": 25,
     "metadata": {},
     "output_type": "execute_result"
    }
   ],
   "source": [
    "from sklearn.ensemble import RandomForestRegressor\n",
    "rf = RandomForestRegressor(n_jobs=-1, n_estimators=10, random_state=23)\n",
    "rf.fit(X_train,y_train)\n",
    "rf.score(X_train, y_train)"
   ]
  },
  {
   "cell_type": "markdown",
   "metadata": {},
   "source": [
    "## Checking the Performance"
   ]
  },
  {
   "cell_type": "code",
   "execution_count": 26,
   "metadata": {
    "scrolled": true
   },
   "outputs": [
    {
     "name": "stdout",
     "output_type": "stream",
     "text": [
      "The scores for Stochastic Gradient Descent are:  [0.3968648110452676, 0.3995578537520062, 0.8475738040346006, 0.8435787127417848]\n",
      "********************\n",
      "The scores for Random Forest are:  [0.2505442962295736, 0.2532557461978344, 0.9392503939398784, 0.9371572577031487]\n"
     ]
    }
   ],
   "source": [
    "print('The scores for Stochastic Gradient Descent are: ',print_score(SGD))\n",
    "print('*'*20)\n",
    "print('The scores for Random Forest are: ',print_score(rf))"
   ]
  },
  {
   "cell_type": "markdown",
   "metadata": {},
   "source": [
    "## Using Neural Networks\n",
    "\n",
    "Neural Networks are state of art mathematical model inspired from the functionality of the brain to make predictive models and to find the underlying structure of the data. \n",
    "\n",
    "We will building two Neural Networks. Both the Deep Learning model will differ in terms of activation function. We will compare how they perform against each other.  \n",
    "\n",
    "The goal here is to see which which model is robust to outliers. "
   ]
  },
  {
   "cell_type": "markdown",
   "metadata": {},
   "source": [
    "## Vanilla Neural Nets"
   ]
  },
  {
   "cell_type": "code",
   "execution_count": 27,
   "metadata": {},
   "outputs": [],
   "source": [
    "X,y = data_raw.carat, np.log(data_raw.price)\n",
    "\n",
    "from sklearn.model_selection import train_test_split\n",
    "\n",
    "train_x, X_test, train_y, y_test = train_test_split(X,y, random_state=23, test_size=0.3)\n",
    "\n",
    "X_train, X_valid, y_train, y_valid = train_test_split(train_x, train_y, random_state=23, test_size=0.3)"
   ]
  },
  {
   "cell_type": "code",
   "execution_count": 28,
   "metadata": {},
   "outputs": [
    {
     "name": "stderr",
     "output_type": "stream",
     "text": [
      "Using TensorFlow backend.\n"
     ]
    }
   ],
   "source": [
    "import keras\n",
    "from keras.models import Sequential"
   ]
  },
  {
   "cell_type": "code",
   "execution_count": 29,
   "metadata": {},
   "outputs": [],
   "source": [
    "X_train = np.array(X_train).reshape(-1,1)\n",
    "X_valid = np.array(X_valid).reshape(-1,1)\n",
    "X_test = np.array(X_test).reshape(-1,1)"
   ]
  },
  {
   "cell_type": "code",
   "execution_count": 30,
   "metadata": {},
   "outputs": [
    {
     "name": "stdout",
     "output_type": "stream",
     "text": [
      "Train on 26430 samples, validate on 11328 samples\n",
      "Epoch 1/20\n",
      "26430/26430 [==============================] - 2s 74us/step - loss: 1.2168 - val_loss: 0.8599\n",
      "Epoch 2/20\n",
      "26430/26430 [==============================] - 2s 70us/step - loss: 0.7899 - val_loss: 0.7156\n",
      "Epoch 3/20\n",
      "26430/26430 [==============================] - 2s 79us/step - loss: 0.6466 - val_loss: 0.5753\n",
      "Epoch 4/20\n",
      "26430/26430 [==============================] - 2s 93us/step - loss: 0.5215 - val_loss: 0.4604\n",
      "Epoch 5/20\n",
      "26430/26430 [==============================] - 2s 57us/step - loss: 0.4161 - val_loss: 0.3660\n",
      "Epoch 6/20\n",
      "26430/26430 [==============================] - 1s 47us/step - loss: 0.3319 - val_loss: 0.2939\n",
      "Epoch 7/20\n",
      "26430/26430 [==============================] - 1s 48us/step - loss: 0.2687 - val_loss: 0.2410\n",
      "Epoch 8/20\n",
      "26430/26430 [==============================] - 2s 59us/step - loss: 0.2243 - val_loss: 0.2039\n",
      "Epoch 9/20\n",
      "26430/26430 [==============================] - 1s 55us/step - loss: 0.1951 - val_loss: 0.1812\n",
      "Epoch 10/20\n",
      "26430/26430 [==============================] - 1s 51us/step - loss: 0.1769 - val_loss: 0.1669\n",
      "Epoch 11/20\n",
      "26430/26430 [==============================] - 1s 46us/step - loss: 0.1660 - val_loss: 0.1591\n",
      "Epoch 12/20\n",
      "26430/26430 [==============================] - 1s 55us/step - loss: 0.1597 - val_loss: 0.1527\n",
      "Epoch 13/20\n",
      "26430/26430 [==============================] - 3s 108us/step - loss: 0.1561 - val_loss: 0.1497\n",
      "Epoch 14/20\n",
      "26430/26430 [==============================] - 1s 53us/step - loss: 0.1542 - val_loss: 0.1489\n",
      "Epoch 15/20\n",
      "26430/26430 [==============================] - 1s 49us/step - loss: 0.1531 - val_loss: 0.1467\n",
      "Epoch 16/20\n",
      "26430/26430 [==============================] - 1s 48us/step - loss: 0.1525 - val_loss: 0.1471\n",
      "Epoch 17/20\n",
      "26430/26430 [==============================] - 1s 46us/step - loss: 0.1522 - val_loss: 0.1458\n",
      "Epoch 18/20\n",
      "26430/26430 [==============================] - 1s 46us/step - loss: 0.1520 - val_loss: 0.1458\n",
      "Epoch 19/20\n",
      "26430/26430 [==============================] - 1s 54us/step - loss: 0.1519 - val_loss: 0.1463\n",
      "Epoch 20/20\n",
      "26430/26430 [==============================] - 1s 47us/step - loss: 0.1517 - val_loss: 0.1454\n",
      "16182/16182 [==============================] - 0s 20us/step\n"
     ]
    }
   ],
   "source": [
    "model = keras.models.Sequential([\n",
    "    keras.layers.Dense(300, activation=\"sigmoid\", input_shape=X_train.shape[1:]),\n",
    "    keras.layers.Dense(1),\n",
    "])\n",
    "model.compile(loss=\"mean_squared_error\", optimizer=keras.optimizers.SGD(lr=1e-3))\n",
    "history = model.fit(X_train, y_train, epochs=20, validation_data=(X_valid, y_valid))\n",
    "mse_test = model.evaluate(X_test, y_test)"
   ]
  },
  {
   "cell_type": "code",
   "execution_count": 31,
   "metadata": {},
   "outputs": [
    {
     "data": {
      "text/plain": [
       "dict_keys(['val_loss', 'loss'])"
      ]
     },
     "execution_count": 31,
     "metadata": {},
     "output_type": "execute_result"
    }
   ],
   "source": [
    "history.history.keys()"
   ]
  },
  {
   "cell_type": "code",
   "execution_count": 32,
   "metadata": {},
   "outputs": [
    {
     "data": {
      "image/png": "[encoded data removed]",
      "text/plain": [
       "<Figure size 720x720 with 1 Axes>"
      ]
     },
     "metadata": {
      "needs_background": "light"
     },
     "output_type": "display_data"
    }
   ],
   "source": [
    "plt.figure(figsize=(10,10))\n",
    "plt.plot(history.history['val_loss'], label='Validation Loss')\n",
    "plt.plot(history.history['loss'], label='Actual Loss')\n",
    "plt.legend()\n",
    "plt.show()"
   ]
  },
  {
   "cell_type": "markdown",
   "metadata": {},
   "source": [
    "## Convolutional Neural Networks"
   ]
  },
  {
   "cell_type": "code",
   "execution_count": 33,
   "metadata": {},
   "outputs": [],
   "source": [
    "cnnSeq = keras.models.Sequential()\n",
    "\n",
    "cnnSeq.add(keras.layers.Dense(300, kernel_initializer=\"he_normal\", input_shape=X_train.shape[1:]))\n",
    "cnnSeq.add(keras.layers.LeakyReLU())\n",
    "cnnSeq.add(keras.layers.Dense(1))\n"
   ]
  },
  {
   "cell_type": "code",
   "execution_count": 34,
   "metadata": {},
   "outputs": [
    {
     "name": "stdout",
     "output_type": "stream",
     "text": [
      "Train on 26430 samples, validate on 11328 samples\n",
      "Epoch 1/20\n",
      "26430/26430 [==============================] - 2s 67us/step - loss: 3.8384 - val_loss: 0.4001\n",
      "Epoch 2/20\n",
      "26430/26430 [==============================] - 2s 80us/step - loss: 0.1740 - val_loss: 0.1392\n",
      "Epoch 3/20\n",
      "26430/26430 [==============================] - 1s 46us/step - loss: 0.1477 - val_loss: 0.1335\n",
      "Epoch 4/20\n",
      "26430/26430 [==============================] - 1s 46us/step - loss: 0.1425 - val_loss: 0.1285\n",
      "Epoch 5/20\n",
      "26430/26430 [==============================] - 1s 45us/step - loss: 0.1368 - val_loss: 0.1305\n",
      "Epoch 6/20\n",
      "26430/26430 [==============================] - 1s 44us/step - loss: 0.1314 - val_loss: 0.1204\n",
      "Epoch 7/20\n",
      "26430/26430 [==============================] - 1s 48us/step - loss: 0.1259 - val_loss: 0.1144\n",
      "Epoch 8/20\n",
      "26430/26430 [==============================] - 1s 46us/step - loss: 0.1214 - val_loss: 0.1231\n",
      "Epoch 9/20\n",
      "26430/26430 [==============================] - 1s 44us/step - loss: 0.1175 - val_loss: 0.1064\n",
      "Epoch 10/20\n",
      "26430/26430 [==============================] - 1s 45us/step - loss: 0.1138 - val_loss: 0.1830\n",
      "Epoch 11/20\n",
      "26430/26430 [==============================] - 1s 44us/step - loss: 0.1095 - val_loss: 0.1000\n",
      "Epoch 12/20\n",
      "26430/26430 [==============================] - 1s 44us/step - loss: 0.1069 - val_loss: 0.1010\n",
      "Epoch 13/20\n",
      "26430/26430 [==============================] - 1s 44us/step - loss: 0.1032 - val_loss: 0.0985\n",
      "Epoch 14/20\n",
      "26430/26430 [==============================] - 1s 45us/step - loss: 0.1003 - val_loss: 0.0973\n",
      "Epoch 15/20\n",
      "26430/26430 [==============================] - 1s 44us/step - loss: 0.0973 - val_loss: 0.0950\n",
      "Epoch 16/20\n",
      "26430/26430 [==============================] - 2s 73us/step - loss: 0.0958 - val_loss: 0.0888\n",
      "Epoch 17/20\n",
      "26430/26430 [==============================] - 1s 49us/step - loss: 0.0933 - val_loss: 0.0925\n",
      "Epoch 18/20\n",
      "26430/26430 [==============================] - 1s 56us/step - loss: 0.0912 - val_loss: 0.0911\n",
      "Epoch 19/20\n",
      "26430/26430 [==============================] - 1s 47us/step - loss: 0.0903 - val_loss: 0.0845\n",
      "Epoch 20/20\n",
      "26430/26430 [==============================] - 1s 45us/step - loss: 0.0881 - val_loss: 0.0826\n",
      "16182/16182 [==============================] - 0s 20us/step\n"
     ]
    }
   ],
   "source": [
    "cnnSeq.compile(loss=\"mean_squared_error\", optimizer=keras.optimizers.SGD(lr=1e-3))\n",
    "history = cnnSeq.fit(X_train, y_train, epochs=20, validation_data=(X_valid, y_valid))\n",
    "mse_test = cnnSeq.evaluate(X_test, y_test)"
   ]
  },
  {
   "cell_type": "code",
   "execution_count": 35,
   "metadata": {},
   "outputs": [
    {
     "data": {
      "image/png": "[encoded data removed]",
      "text/plain": [
       "<Figure size 720x720 with 1 Axes>"
      ]
     },
     "metadata": {
      "needs_background": "light"
     },
     "output_type": "display_data"
    }
   ],
   "source": [
    "plt.figure(figsize=(10,10))\n",
    "plt.plot(history.history['val_loss'], label='Validation Loss')\n",
    "plt.plot(history.history['loss'], label='Actual Loss')\n",
    "plt.legend()\n",
    "plt.show()"
   ]
  },
  {
   "cell_type": "markdown",
   "metadata": {},
   "source": [
    "# Conclusion\n",
    "\n",
    "- Removing the outliers can cause reduction of observation causing the model to loose important data points which can be vital to make relationship between the independent variable and dependent variable. \n",
    "\n",
    "- Scaling is a better option when it comes to reducing the effects of outliers. In that also we should use **Robust Scalar** because it works best when it comes to working with outliers. \n",
    "    - Other scaling methods are also available there like Standard Scalar, Min-Scalar, Normalisation and so forth. Read this article to know more about Scaling methods. \n",
    "    \n",
    "- We also found that Parametric model and non-parametric model works best when the outliers are scaled and not removed. But this is subjective to the problem that you are dealing with. \n",
    "    - If dataset is masive with lot of features then it is better if we remove the outliers. \n",
    "    - If outliers are present in finite features in a infinite dataset then it is better to remove outliers\n",
    "    - If dataset is small then it is better to scale the outliers. \n",
    "    - If your whole process is based on studying the effect of outliers then probably you should not remove outliers. \n",
    "\n",
    "\n",
    "- Deep Neural Networks are less prone to outliers, especially if we take care of the activation functions. \n",
    "    - We found that the Neural Networks with Leaky Relu learns quickly than Sigmoid activation function. \n",
    "    \n",
    "    \n",
    "**Note**: Our aim was not to design a complex model but to design and build a model **to understand the effects of removing outliers and scaling the outliers** and also to obverse which models makes the best relationship between the independent and dependent variables. "
   ]
  },
  {
   "cell_type": "code",
   "execution_count": 37,
   "metadata": {},
   "outputs": [
    {
     "data": {
      "text/plain": [
       "<matplotlib.axes._subplots.AxesSubplot at 0x142399410>"
      ]
     },
     "execution_count": 37,
     "metadata": {},
     "output_type": "execute_result"
    },
    {
     "data": {
      "image/png": "[encoded data removed]",
      "text/plain": [
       "<Figure size 432x288 with 1 Axes>"
      ]
     },
     "metadata": {
      "needs_background": "light"
     },
     "output_type": "display_data"
    }
   ],
   "source": [
    "sns.distplot(X)"
   ]
  },
  {
   "cell_type": "code",
   "execution_count": 43,
   "metadata": {},
   "outputs": [
    {
     "data": {
      "text/plain": [
       "<matplotlib.axes._subplots.AxesSubplot at 0x142b2b550>"
      ]
     },
     "execution_count": 43,
     "metadata": {},
     "output_type": "execute_result"
    },
    {
     "data": {
      "image/png": "[encoded data removed]",
      "text/plain": [
       "<Figure size 432x288 with 1 Axes>"
      ]
     },
     "metadata": {
      "needs_background": "light"
     },
     "output_type": "display_data"
    }
   ],
   "source": [
    "sns.distplot(X.unique())"
   ]
  },
  {
   "cell_type": "code",
   "execution_count": null,
   "metadata": {},
   "outputs": [],
   "source": []
  }
 ],
 "metadata": {
  "kernelspec": {
   "display_name": "Python 3",
   "language": "python",
   "name": "python3"
  },
  "language_info": {
   "codemirror_mode": {
    "name": "ipython",
    "version": 3
   },
   "file_extension": ".py",
   "mimetype": "text/x-python",
   "name": "python",
   "nbconvert_exporter": "python",
   "pygments_lexer": "ipython3",
   "version": "3.7.5"
  }
 },
 "nbformat": 4,
 "nbformat_minor": 2
}
